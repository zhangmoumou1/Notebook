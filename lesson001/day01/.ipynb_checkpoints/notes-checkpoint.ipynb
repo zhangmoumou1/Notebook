{
 "cells": [
  {
   "cell_type": "markdown",
   "metadata": {},
   "source": [
    "### 07、变量"
   ]
  },
  {
   "cell_type": "code",
   "execution_count": null,
   "metadata": {},
   "outputs": [],
   "source": [
    "1.变量是用来调用的\n",
    "2.有两个变量，其中变量A赋值变量B的值，修改变量B的赋值，变量A的赋值不会改变\n",
    "3.Python只有变量没有常量，当不变更某个变量，可以取变量名为PIE"
   ]
  },
  {
   "cell_type": "markdown",
   "metadata": {},
   "source": [
    "### 08、字符编码和二进制"
   ]
  },
  {
   "cell_type": "markdown",
   "metadata": {},
   "source": [
    "1.ASCLL码（美国标准信息交换代码）\n",
    "二进制用ASCLL码表示，1个字节占8位\n",
    "西方国家大小写字母、字符用了127位，128-255位预留给其他国家，中国重新构建了一张表为gb2312码（存储了7445个字符）当，落到指定区域用了索引的方式管理编码；1995年汉字拓展GBK收录21886个字符；2000年的GB18030取代GBK1.0的正式国家标准，收录27484个汉字\n",
    "显然ASCLL码无法全部表示世界上的字符，需要新出一种可以代表所有字符的编码：Unicode（万国码）统一存2个字节，但是占的空间大1个字节占16位，\n",
    "用了压缩版的utf-8表示（英文字符占1个字节，中文3个字节）"
   ]
  },
  {
   "cell_type": "code",
   "execution_count": null,
   "metadata": {},
   "outputs": [],
   "source": [
    "2.Python2和3区别：Python2用的是ascll码不支持中文"
   ]
  },
  {
   "cell_type": "markdown",
   "metadata": {},
   "source": [
    "### 09、字符编码的区别与介绍"
   ]
  },
  {
   "cell_type": "code",
   "execution_count": null,
   "metadata": {},
   "outputs": [],
   "source": []
  }
 ],
 "metadata": {
  "kernelspec": {
   "display_name": "Python 3",
   "language": "python",
   "name": "python3"
  },
  "language_info": {
   "codemirror_mode": {
    "name": "ipython",
    "version": 3
   },
   "file_extension": ".py",
   "mimetype": "text/x-python",
   "name": "python",
   "nbconvert_exporter": "python",
   "pygments_lexer": "ipython3",
   "version": "3.6.0"
  }
 },
 "nbformat": 4,
 "nbformat_minor": 2
}
