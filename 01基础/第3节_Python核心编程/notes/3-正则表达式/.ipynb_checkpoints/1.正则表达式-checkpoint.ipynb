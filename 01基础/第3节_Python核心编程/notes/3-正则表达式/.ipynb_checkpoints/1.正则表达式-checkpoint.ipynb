{
 "cells": [
  {
   "cell_type": "markdown",
   "metadata": {},
   "source": [
    "### 属性查找"
   ]
  },
  {
   "cell_type": "code",
   "execution_count": null,
   "metadata": {},
   "outputs": [],
   "source": []
  },
  {
   "cell_type": "markdown",
   "metadata": {},
   "source": [
    "### pycharm使用"
   ]
  },
  {
   "cell_type": "code",
   "execution_count": null,
   "metadata": {},
   "outputs": [],
   "source": []
  },
  {
   "cell_type": "markdown",
   "metadata": {},
   "source": [
    "### 正则表达式的引入"
   ]
  },
  {
   "cell_type": "markdown",
   "metadata": {},
   "source": [
    "正则表达式又称正规表达式，使用单个字符串来描述、匹配一系列匹配某个句法规则的字符串，regular expression"
   ]
  },
  {
   "cell_type": "markdown",
   "metadata": {},
   "source": [
    "### re模块的基本使用"
   ]
  },
  {
   "cell_type": "markdown",
   "metadata": {},
   "source": [
    "re.match是用来进行正则匹配检查的方法，若字符串匹配正则表达式，则match方法返回匹配对象，否则返回none(\"\")"
   ]
  },
  {
   "cell_type": "code",
   "execution_count": null,
   "metadata": {},
   "outputs": [],
   "source": [
    "import re\n",
    "#使用match方法进行匹配操作\n",
    "result = re.match(正则表达式,要匹配的字符串)\n",
    "#如果上一步匹配到数据的话，可以使用group方法来提取数据\n",
    "result.group()"
   ]
  },
  {
   "cell_type": "markdown",
   "metadata": {},
   "source": [
    "### 正则字符集描述"
   ]
  },
  {
   "cell_type": "code",
   "execution_count": null,
   "metadata": {},
   "outputs": [],
   "source": [
    "字符          功能\n",
    ".           匹配任意一个字符（除了\\n）\n",
    "[]          匹配[]中列举的字符\n",
    "\\d          匹配数字，即0-9\n",
    "\\D          匹配非数字，即不是数字\n",
    "\\s          匹配空白，即空格，tab键\n",
    "\\S          匹配非空白\n",
    "\\w          匹配单词字符，即a-z,A-Z,0-9\n",
    "\\W          匹配非单词字符"
   ]
  },
  {
   "cell_type": "code",
   "execution_count": null,
   "metadata": {},
   "outputs": [],
   "source": [
    "import re\n",
    "re.match(\"...\", \"abc\")\n",
    "\n",
    "re.match(\"\\d\", \"2\")\n",
    "\n",
    "re.match(\"\\s\", \"\\na\")\n",
    "\n",
    "re.match(\"\\w\", \"1a\")"
   ]
  },
  {
   "cell_type": "markdown",
   "metadata": {},
   "source": [
    "### match匹配方法"
   ]
  },
  {
   "cell_type": "code",
   "execution_count": null,
   "metadata": {},
   "outputs": [],
   "source": []
  },
  {
   "cell_type": "markdown",
   "metadata": {},
   "source": [
    "### 正则数量描述"
   ]
  },
  {
   "cell_type": "code",
   "execution_count": null,
   "metadata": {},
   "outputs": [],
   "source": [
    "#匹配手机号\n",
    "import re\n",
    "re.match(\"1[34578]\",\"18\")  \n",
    "re.match(\"1[^34578]\",\"18\")  #方括号匹配取反\n",
    "re.match(\"1[a-z0-9]\",\"18\")  #匹配a-z或0-9的字符串\n"
   ]
  },
  {
   "cell_type": "code",
   "execution_count": null,
   "metadata": {},
   "outputs": [],
   "source": [
    "字符          功能\n",
    "*           匹配前一个字符出现0次或者无限次，即可有可无\n",
    "+           匹配前一个字符出现1次或者无限次，即至少1次\n",
    "？          匹配前一个字符出现一次或者0次，即要么1次要么没有\n",
    "{m}         匹配前一个字符出现m次\n",
    "{m,}        匹配前一个字符至少出现m次\n",
    "{m,n}       匹配前一个字符出现m到n次"
   ]
  }
 ],
 "metadata": {
  "kernelspec": {
   "display_name": "Python 3",
   "language": "python",
   "name": "python3"
  },
  "language_info": {
   "codemirror_mode": {
    "name": "ipython",
    "version": 3
   },
   "file_extension": ".py",
   "mimetype": "text/x-python",
   "name": "python",
   "nbconvert_exporter": "python",
   "pygments_lexer": "ipython3",
   "version": "3.6.0"
  },
  "toc": {
   "nav_menu": {},
   "number_sections": true,
   "sideBar": true,
   "skip_h1_title": false,
   "title_cell": "Table of Contents",
   "title_sidebar": "Contents",
   "toc_cell": false,
   "toc_position": {
    "height": "calc(100% - 180px)",
    "left": "10px",
    "top": "150px",
    "width": "429px"
   },
   "toc_section_display": true,
   "toc_window_display": true
  }
 },
 "nbformat": 4,
 "nbformat_minor": 2
}
