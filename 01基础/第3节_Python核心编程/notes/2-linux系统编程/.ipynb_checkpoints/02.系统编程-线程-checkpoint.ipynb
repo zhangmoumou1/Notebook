{
 "cells": [
  {
   "cell_type": "markdown",
   "metadata": {},
   "source": [
    "### 使用thread完成多线程-第一种方式"
   ]
  },
  {
   "cell_type": "markdown",
   "metadata": {},
   "source": [
    "python的thread模块是比较底层的模块，python的threading模块对thread做了一些包装的，可以更加方便的使用"
   ]
  },
  {
   "cell_type": "markdown",
   "metadata": {},
   "source": [
    "只要进程运行起来，里面会有一个主线程（运行的位置）"
   ]
  },
  {
   "cell_type": "code",
   "execution_count": null,
   "metadata": {},
   "outputs": [],
   "source": [
    "from threading import Thread\n",
    "import time\n",
    "\n",
    "#1. 如果多个线程执行的都是同一个函数的话，各自之间不会有影响，各是个的\n",
    "#子线程在此运行\n",
    "def test():\n",
    "    print(\"----昨晚喝多了，下次少喝点---\")\n",
    "    time.sleep(1)\n",
    "\n",
    "#主线程在此运行创建了5个子线程，等子线程全部运行完主线程才会结束\n",
    "for i in range(5):\n",
    "    t = Thread(target=test)\n",
    "    t.start()  #线程开始启动"
   ]
  },
  {
   "cell_type": "markdown",
   "metadata": {},
   "source": [
    "### 使用thread子类完成创建子线程-第二种方式"
   ]
  },
  {
   "cell_type": "code",
   "execution_count": 1,
   "metadata": {},
   "outputs": [
    {
     "name": "stdout",
     "output_type": "stream",
     "text": [
      "I'm Thread-6 @ 0\n",
      "I'm Thread-6 @ 1\n",
      "I'm Thread-6 @ 2\n"
     ]
    }
   ],
   "source": [
    "import threading\n",
    "import time\n",
    "\n",
    "class MyThread(threading.Thread):\n",
    "    def run(self):\n",
    "        for i in range(3):\n",
    "            time.sleep(1)\n",
    "            msg = \"I'm \"+self.name+' @ '+str(i) #name属性中保存的是当前线程的名字\n",
    "            print(msg)\n",
    "\n",
    "\n",
    "if __name__ == '__main__':\n",
    "    t = MyThread()\n",
    "    t.start()"
   ]
  },
  {
   "cell_type": "markdown",
   "metadata": {},
   "source": [
    "### 线程的执行顺序"
   ]
  },
  {
   "cell_type": "markdown",
   "metadata": {},
   "source": [
    "执行顺序由操作系统调度决定，是无序的"
   ]
  },
  {
   "cell_type": "markdown",
   "metadata": {},
   "source": [
    "### 多线程使用全局变量"
   ]
  },
  {
   "cell_type": "code",
   "execution_count": null,
   "metadata": {},
   "outputs": [],
   "source": [
    "from threading import Thread\n",
    "import time\n",
    "\n",
    "#线程之间共享全局变量\n",
    "g_num = 100\n",
    "\n",
    "def work1():\n",
    "    global g_num\n",
    "    for i in range(3):\n",
    "        g_num += 1\n",
    "\n",
    "    print(\"----in work1, g_num is %d---\"%g_num)\n",
    "\n",
    "\n",
    "def work2():\n",
    "    global g_num\n",
    "    print(\"----in work2, g_num is %d---\"%g_num)\n",
    "\n",
    "\n",
    "print(\"---线程创建之前g_num is %d---\"%g_num)\n",
    "\n",
    "t1 = Thread(target=work1)\n",
    "t1.start()\n",
    "\n",
    "#延时一会，保证t1线程中的事情做完\n",
    "time.sleep(1)\n",
    "\n",
    "t2 = Thread(target=work2)\n",
    "t2.start()"
   ]
  }
 ],
 "metadata": {
  "kernelspec": {
   "display_name": "Python 3",
   "language": "python",
   "name": "python3"
  },
  "language_info": {
   "codemirror_mode": {
    "name": "ipython",
    "version": 3
   },
   "file_extension": ".py",
   "mimetype": "text/x-python",
   "name": "python",
   "nbconvert_exporter": "python",
   "pygments_lexer": "ipython3",
   "version": "3.5.2"
  },
  "toc": {
   "nav_menu": {},
   "number_sections": true,
   "sideBar": true,
   "skip_h1_title": false,
   "toc_cell": false,
   "toc_position": {
    "height": "880px",
    "left": "0px",
    "right": "1708px",
    "top": "67px",
    "width": "212px"
   },
   "toc_section_display": "block",
   "toc_window_display": true
  }
 },
 "nbformat": 4,
 "nbformat_minor": 2
}
