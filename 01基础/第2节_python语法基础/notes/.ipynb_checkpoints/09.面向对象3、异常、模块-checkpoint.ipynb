{
 "cells": [
  {
   "cell_type": "markdown",
   "metadata": {},
   "source": [
    "### 设计4s店类"
   ]
  },
  {
   "cell_type": "code",
   "execution_count": null,
   "metadata": {},
   "outputs": [],
   "source": [
    "class CarStore(object):\n",
    "    def order(self, car_type):\n",
    "        if car_type==\"索纳塔\":\n",
    "            return Suonata()\n",
    "        elif car_type==\"名图\":\n",
    "            return Mingtu()\n",
    "        elif car_type==\"ix35\":\n",
    "            return Ix35()\n",
    "\n",
    "class Car(object):\n",
    "    def move(self):\n",
    "        print(\"车在移动....\")\n",
    "    def music(self):\n",
    "        print(\"正在播放音乐....\")\n",
    "    def stop(self):\n",
    "        print(\"车在停止....\")\n",
    "\n",
    "class Suonata(Car):\n",
    "    pass\n",
    "\n",
    "class Mingtu(Car):\n",
    "    pass\n",
    "\n",
    "class Ix35(Car):\n",
    "    pass\n",
    "\n",
    "car_store = CarStore()\n",
    "car = car_store.order(\"索纳塔\")\n",
    "car.move()\n",
    "car.music()\n",
    "car.stop()"
   ]
  },
  {
   "cell_type": "markdown",
   "metadata": {},
   "source": [
    "### 设计4s店类--使用函数完成解耦"
   ]
  },
  {
   "cell_type": "markdown",
   "metadata": {},
   "source": [
    "不更改类本身，通过更改函数"
   ]
  },
  {
   "cell_type": "code",
   "execution_count": 2,
   "metadata": {},
   "outputs": [
    {
     "name": "stdout",
     "output_type": "stream",
     "text": [
      "车在移动....\n",
      "正在播放音乐....\n",
      "车在停止....\n"
     ]
    }
   ],
   "source": [
    "class CarStore(object):\n",
    "\tdef order(self, car_type):\n",
    "\t\treturn select_car_by_type(car_type)\n",
    "#函数解耦\n",
    "def select_car_by_type(car_type):\n",
    "\tif car_type==\"索纳塔\":\n",
    "\t\treturn Suonata()\n",
    "\telif car_type==\"名图\":\n",
    "\t\treturn Mingtu()\n",
    "\telif car_type==\"ix35\":\n",
    "\t\treturn Ix35()\n",
    "\n",
    "class Car(object):\n",
    "\tdef move(self):\n",
    "\t\tprint(\"车在移动....\")\n",
    "\tdef music(self):\n",
    "\t\tprint(\"正在播放音乐....\")\n",
    "\tdef stop(self):\n",
    "\t\tprint(\"车在停止....\")\n",
    "\n",
    "class Suonata(Car):\n",
    "\tpass\n",
    "\n",
    "class Mingtu(Car):\n",
    "\tpass\n",
    "\n",
    "class Ix35(Car):\n",
    "\tpass\n",
    "\n",
    "car_store = CarStore()\n",
    "car = car_store.order(\"索纳塔\")\n",
    "car.move()\n",
    "car.music()\n",
    "car.stop()"
   ]
  },
  {
   "cell_type": "markdown",
   "metadata": {},
   "source": [
    "### 设计4s店类--使用类完成解耦--简单工厂模式"
   ]
  },
  {
   "cell_type": "code",
   "execution_count": 3,
   "metadata": {},
   "outputs": [
    {
     "name": "stdout",
     "output_type": "stream",
     "text": [
      "车在移动....\n",
      "正在播放音乐....\n",
      "车在停止....\n"
     ]
    }
   ],
   "source": [
    "class CarStore(object):\n",
    "\n",
    "\tdef __init__(self):\n",
    "\t\tself.factory = Factory()\n",
    "\n",
    "\tdef order(self, car_type):\n",
    "\t\treturn self.factory.select_car_by_type(car_type)\n",
    "\n",
    "class Factory(object):\n",
    "\tdef select_car_by_type(self, car_type):\n",
    "\t\tif car_type==\"索纳塔\":\n",
    "\t\t\treturn Suonata()\n",
    "\t\telif car_type==\"名图\":\n",
    "\t\t\treturn Mingtu()\n",
    "\t\telif car_type==\"ix35\":\n",
    "\t\t\treturn Ix35()\n",
    "\n",
    "class Car(object):\n",
    "\tdef move(self):\n",
    "\t\tprint(\"车在移动....\")\n",
    "\tdef music(self):\n",
    "\t\tprint(\"正在播放音乐....\")\n",
    "\tdef stop(self):\n",
    "\t\tprint(\"车在停止....\")\n",
    "\n",
    "class Suonata(Car):\n",
    "\tpass\n",
    "\n",
    "class Mingtu(Car):\n",
    "\tpass\n",
    "\n",
    "class Ix35(Car):\n",
    "\tpass\n",
    "\n",
    "car_store = CarStore()\n",
    "car = car_store.order(\"索纳塔\")\n",
    "car.move()\n",
    "car.music()\n",
    "car.stop()"
   ]
  },
  {
   "cell_type": "markdown",
   "metadata": {},
   "source": [
    "### 设计4s店类--工厂方法模式"
   ]
  },
  {
   "cell_type": "markdown",
   "metadata": {},
   "source": [
    "在基类里面已经设计好运行流程，子类去完成特定功能，"
   ]
  },
  {
   "cell_type": "code",
   "execution_count": null,
   "metadata": {},
   "outputs": [],
   "source": [
    "class Store(object):\n",
    "\n",
    "\tdef select_car(self):\n",
    "\t\tpass\n",
    "\n",
    "\tdef order(self, car_type):\n",
    "\t\treturn self.select_car(car_type)    #调用对象BMWFactory的select_car方法\n",
    "\n",
    "class BMWCarStore(Store):\n",
    "\tdef select_car(self, car_type):\n",
    "\t\treturn BMWFactory().select_car_by_type(car_type)\n",
    "\n",
    "class BMWFactory(object):\n",
    "\tdef select_car_by_type(self, car_type):\n",
    "\t\tpass\n",
    "\t\t# if car_type==\"mini\":\n",
    "\t\t# \treturn Suonata()\n",
    "\t\t# elif car_type==\"720li\":\n",
    "\t\t# \treturn Mingtu()\n",
    "\t\t# elif car_type==\"x6\":\n",
    "\t\t# \treturn Ix35()\n",
    "\n",
    "bmw_store = BMWCarStore()\n",
    "bmw = bmw_store.order(\"720li\")\n",
    "\n",
    "\n",
    "\n",
    "class CarStore(Store):\n",
    "\tdef select_car(self, car_type):\n",
    "\t\treturn Factory().select_car_by_type(car_type)\n",
    "\n",
    "class Factory(object):\n",
    "\tdef select_car_by_type(self, car_type):\n",
    "\t\tif car_type==\"索纳塔\":\n",
    "\t\t\treturn Suonata()\n",
    "\t\telif car_type==\"名图\":\n",
    "\t\t\treturn Mingtu()\n",
    "\t\telif car_type==\"ix35\":\n",
    "\t\t\treturn Ix35()\n",
    "\n",
    "class Car(object):\n",
    "\tdef move(self):\n",
    "\t\tprint(\"车在移动....\")\n",
    "\tdef music(self):\n",
    "\t\tprint(\"正在播放音乐....\")\n",
    "\tdef stop(self):\n",
    "\t\tprint(\"车在停止....\")\n",
    "\n",
    "class Suonata(Car):\n",
    "\tpass\n",
    "\n",
    "class Mingtu(Car):\n",
    "\tpass\n",
    "\n",
    "class Ix35(Car):\n",
    "\tpass\n",
    "\n",
    "car_store = CarStore()\n",
    "car = car_store.order(\"索纳塔\")\n",
    "car.move()\n",
    "car.music()\n",
    "car.stop()"
   ]
  },
  {
   "cell_type": "markdown",
   "metadata": {},
   "source": [
    "###  _ _new_ _方法"
   ]
  },
  {
   "cell_type": "code",
   "execution_count": null,
   "metadata": {},
   "outputs": [],
   "source": [
    "__new__方法只负责创建,__init__方法只负责初始化,先调new返回结果再去掉init返回结果"
   ]
  },
  {
   "cell_type": "code",
   "execution_count": 4,
   "metadata": {},
   "outputs": [
    {
     "name": "stdout",
     "output_type": "stream",
     "text": [
      "----new方法-----\n",
      "----init方法-----\n"
     ]
    }
   ],
   "source": [
    "class Dog(object):\n",
    "    def __init__(self):\n",
    "        print(\"----init方法-----\")\n",
    "\n",
    "    def __del__(self):\n",
    "        print(\"----del方法-----\")\n",
    "\n",
    "    def __str__(self):\n",
    "        print(\"----str方法-----\")\n",
    "        return \"对象的描述信息\"\n",
    "\n",
    "    def __new__(cls): #cls此时是Dog指向的那个类对象\n",
    "\n",
    "        #print(id(cls))\n",
    "\n",
    "        print(\"----new方法-----\")\n",
    "        return object.__new__(cls)  #调用父类\n",
    "\n",
    "\n",
    "#print(id(Dog))\n",
    "\n",
    "xtq = Dog()"
   ]
  },
  {
   "cell_type": "markdown",
   "metadata": {},
   "source": [
    "### 创建单例对象"
   ]
  },
  {
   "cell_type": "markdown",
   "metadata": {},
   "source": [
    "不管创建多少次，只有一个对象"
   ]
  },
  {
   "cell_type": "code",
   "execution_count": null,
   "metadata": {},
   "outputs": [],
   "source": []
  }
 ],
 "metadata": {
  "kernelspec": {
   "display_name": "Python 3",
   "language": "python",
   "name": "python3"
  },
  "language_info": {
   "codemirror_mode": {
    "name": "ipython",
    "version": 3
   },
   "file_extension": ".py",
   "mimetype": "text/x-python",
   "name": "python",
   "nbconvert_exporter": "python",
   "pygments_lexer": "ipython3",
   "version": "3.6.0"
  },
  "toc": {
   "nav_menu": {},
   "number_sections": true,
   "sideBar": true,
   "skip_h1_title": false,
   "title_cell": "Table of Contents",
   "title_sidebar": "Contents",
   "toc_cell": false,
   "toc_position": {
    "height": "calc(100% - 180px)",
    "left": "10px",
    "top": "150px",
    "width": "384px"
   },
   "toc_section_display": "block",
   "toc_window_display": true
  }
 },
 "nbformat": 4,
 "nbformat_minor": 2
}
