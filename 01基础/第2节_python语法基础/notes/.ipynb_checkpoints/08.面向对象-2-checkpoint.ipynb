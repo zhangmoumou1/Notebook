{
 "cells": [
  {
   "cell_type": "markdown",
   "metadata": {},
   "source": [
    "### 私有方法"
   ]
  },
  {
   "cell_type": "markdown",
   "metadata": {},
   "source": [
    "私有方法：通过验证一个方法才能去调用私有方法，不能直接调用，说明私有方法比较重要"
   ]
  },
  {
   "cell_type": "code",
   "execution_count": null,
   "metadata": {},
   "outputs": [],
   "source": [
    "class Dog:\n",
    "\n",
    "    #私有方法\n",
    "    def __send_msg(self):\n",
    "        print(\"------正在发送短信------\")\n",
    "\n",
    "    #公有方法\n",
    "    def send_msg(self, new_money):\n",
    "        if new_money>10000:\n",
    "            self.__send_msg()\n",
    "        else:\n",
    "            print(\"余额不足,请先充值 再发送短信\")\n",
    "\n",
    "dog = Dog()\n",
    "dog.send_msg(100)"
   ]
  },
  {
   "cell_type": "markdown",
   "metadata": {},
   "source": [
    "### _ _del_ _方法"
   ]
  },
  {
   "cell_type": "code",
   "execution_count": null,
   "metadata": {},
   "outputs": [],
   "source": [
    "class Dog:\n",
    "    \n",
    "    def __del__(self):\n",
    "        print(\"-----英雄over------\")\n",
    "\n",
    "dog1 = Dog()\n",
    "dog2 = dog1\n",
    "\n",
    "del dog1#不会调用 __del__方法,因为这个对象 还有其他的变量指向它,即 引用计算不是0\n",
    "del dog2#此时会调用__del__方法,因为没有变量指向它了\n",
    "print(\"====================\")\n",
    "\n",
    "#如果在程序结束时,有些对象还存在,那么python解释器会自动调用它们的__del__方法来完成清理工作"
   ]
  },
  {
   "cell_type": "markdown",
   "metadata": {},
   "source": [
    "### 测试对象的引用个数"
   ]
  },
  {
   "cell_type": "code",
   "execution_count": 2,
   "metadata": {},
   "outputs": [
    {
     "data": {
      "text/plain": [
       "2"
      ]
     },
     "execution_count": 2,
     "metadata": {},
     "output_type": "execute_result"
    }
   ],
   "source": [
    "import sys\n",
    "class T:\n",
    "    pass\n",
    "t = T()\n",
    "sys.getrefcount(t)\n",
    "#用于测试对象的引用个数，实际要去掉一个，因为本身调用也算一个"
   ]
  },
  {
   "cell_type": "markdown",
   "metadata": {},
   "source": [
    "### 继承"
   ]
  },
  {
   "cell_type": "code",
   "execution_count": 4,
   "metadata": {},
   "outputs": [
    {
     "name": "stdout",
     "output_type": "stream",
     "text": [
      "----飞----\n",
      "----汪汪叫---\n",
      "-----吃----\n"
     ]
    }
   ],
   "source": [
    "class Animal:\n",
    "    def eat(self):\n",
    "        print(\"-----吃----\")\n",
    "    def drink(self):\n",
    "        print(\"-----喝----\")\n",
    "    def sleep(self):\n",
    "        print(\"-----睡觉----\")\n",
    "    def run(self):\n",
    "        print(\"-----跑----\")\n",
    "#子类继承父类Animal\n",
    "class Dog(Animal):\n",
    "    def bark(self):\n",
    "        print(\"----汪汪叫---\")\n",
    "#子类继承父类的父类Animal\n",
    "class Xiaotq(Dog):\n",
    "    def fly(self):\n",
    "        print(\"----飞----\")\n",
    "    \n",
    "xiaotq = Xiaotq()\n",
    "xiaotq.fly()\n",
    "xiaotq.bark()\n",
    "xiaotq.eat()"
   ]
  },
  {
   "cell_type": "markdown",
   "metadata": {},
   "source": [
    "### 重写和调用被重写的方法"
   ]
  },
  {
   "cell_type": "markdown",
   "metadata": {},
   "source": [
    "本身类里重写方法替换当前继承的父类里的方法"
   ]
  },
  {
   "cell_type": "code",
   "execution_count": 6,
   "metadata": {},
   "outputs": [
    {
     "name": "stdout",
     "output_type": "stream",
     "text": [
      "----飞----\n",
      "----狂叫---\n",
      "----汪汪叫---\n",
      "----汪汪叫---\n",
      "-----吃----\n"
     ]
    }
   ],
   "source": [
    "class Animal:\n",
    "    def eat(self):\n",
    "        print(\"-----吃----\")\n",
    "    def drink(self):\n",
    "        print(\"-----喝----\")\n",
    "    def sleep(self):\n",
    "        print(\"-----睡觉----\")\n",
    "    def run(self):\n",
    "        print(\"-----跑----\")\n",
    "#子类继承父类Animal\n",
    "class Dog(Animal):\n",
    "    def bark(self):\n",
    "        print(\"----汪汪叫---\")\n",
    "#子类继承父类的父类Animal\n",
    "class Xiaotq(Dog):\n",
    "    def fly(self):\n",
    "        print(\"----飞----\")\n",
    "    #重写父类方法\n",
    "    def bark(self):\n",
    "        print(\"----狂叫---\")\n",
    "        \n",
    "        #第一种调用被重写的方法\n",
    "        Dog.bark(self)\n",
    "        #第二种调用被重写的方法\n",
    "        super().bark()\n",
    "        \n",
    "xiaotq = Xiaotq()\n",
    "xiaotq.fly()\n",
    "xiaotq.bark()\n",
    "xiaotq.eat()"
   ]
  },
  {
   "cell_type": "markdown",
   "metadata": {},
   "source": [
    "### 私有方法、私有属性在继承中的表现"
   ]
  },
  {
   "cell_type": "code",
   "execution_count": null,
   "metadata": {},
   "outputs": [],
   "source": [
    "class A:\n",
    "    def __init__(self):\n",
    "        self.num1 = 100\n",
    "        self.__num2 = 200\n",
    "\n",
    "    def test1(self):\n",
    "        print(\"-----test1----\")\n",
    "\n",
    "    def __test2(self):\n",
    "        print(\"-----test2----\")\n",
    "\n",
    "    def test3(self):\n",
    "        self.__test2()\n",
    "        print(self.__num2)\n",
    "\n",
    "class B(A):\n",
    "    def test4(self):\n",
    "        self.__test2()\n",
    "        print(self.__num2)\n",
    "\n",
    "b = B()\n",
    "#b.test1()\n",
    "#b.__test2() #私有方法并不会被继承\n",
    "#print(b.num1)\n",
    "#print(b.__num2) #私有属性并不会被继承\n",
    "\n",
    "#调用父类里公有方法（方法里调用父类里的私有方法和属性），这样可以调用私有方法\n",
    "b.test3()\n",
    "#本身类自己写了一个方法去调用父类的私有方法，不会被调用\n",
    "b.test4()"
   ]
  },
  {
   "cell_type": "markdown",
   "metadata": {},
   "source": [
    "### 多继承"
   ]
  },
  {
   "cell_type": "markdown",
   "metadata": {},
   "source": [
    "类不写括号叫做经典类,类括号写上object叫做新式类,Python3推荐新式类，新增了一些功能"
   ]
  },
  {
   "cell_type": "code",
   "execution_count": null,
   "metadata": {},
   "outputs": [],
   "source": [
    "class Base(object):\n",
    "    def test(self):\n",
    "        print(\"----Base\")\n",
    "\n",
    "class A(Base):\n",
    "    def test1(self):\n",
    "        print(\"-----test1\")\n",
    "\n",
    "class B(Base):\n",
    "    def test2(self):\n",
    "        print(\"-----test2\")\n",
    "#多继承\n",
    "class C(A,B):\n",
    "    pass\n",
    "\n",
    "c = C()\n",
    "c.test1()\n",
    "c.test2()\n",
    "c.test()"
   ]
  },
  {
   "cell_type": "markdown",
   "metadata": {},
   "source": [
    "### 多继承的注意点"
   ]
  },
  {
   "cell_type": "code",
   "execution_count": 8,
   "metadata": {},
   "outputs": [
    {
     "name": "stdout",
     "output_type": "stream",
     "text": [
      "-----A\n",
      "(<class '__main__.C'>, <class '__main__.A'>, <class '__main__.B'>, <class '__main__.Base'>, <class 'object'>)\n"
     ]
    }
   ],
   "source": [
    "class Base(object):\n",
    "    def test(self):\n",
    "        print(\"----Base\")\n",
    "\n",
    "class A(Base):\n",
    "    def test(self):\n",
    "        print(\"-----A\")\n",
    "\n",
    "class B(Base):\n",
    "    def test(self):\n",
    "        print(\"-----B\")\n",
    "\n",
    "class C(A,B):\n",
    "    pass\n",
    "    #def test(self):\n",
    "    #    print(\"-----C\")\n",
    "\n",
    "c = C()\n",
    "c.test()\n",
    "#类名.__mro__-----决定这调用一个方法的时候，搜索的顺序，如果在某个类里找到了这个方法，那么就停止搜索（C3算法）\n",
    "print(C.__mro__)"
   ]
  },
  {
   "cell_type": "code",
   "execution_count": null,
   "metadata": {},
   "outputs": [],
   "source": []
  }
 ],
 "metadata": {
  "kernelspec": {
   "display_name": "Python 3",
   "language": "python",
   "name": "python3"
  },
  "language_info": {
   "codemirror_mode": {
    "name": "ipython",
    "version": 3
   },
   "file_extension": ".py",
   "mimetype": "text/x-python",
   "name": "python",
   "nbconvert_exporter": "python",
   "pygments_lexer": "ipython3",
   "version": "3.6.0"
  },
  "toc": {
   "nav_menu": {},
   "number_sections": true,
   "sideBar": true,
   "skip_h1_title": false,
   "title_cell": "Table of Contents",
   "title_sidebar": "Contents",
   "toc_cell": false,
   "toc_position": {
    "height": "calc(100% - 180px)",
    "left": "10px",
    "top": "150px",
    "width": "384px"
   },
   "toc_section_display": true,
   "toc_window_display": true
  }
 },
 "nbformat": 4,
 "nbformat_minor": 2
}
