{
 "cells": [
  {
   "cell_type": "markdown",
   "metadata": {},
   "source": [
    "### 私有方法"
   ]
  },
  {
   "cell_type": "markdown",
   "metadata": {},
   "source": [
    "私有方法：通过验证一个方法才能去调用私有方法，不能直接调用，说明私有方法比较重要"
   ]
  },
  {
   "cell_type": "code",
   "execution_count": null,
   "metadata": {},
   "outputs": [],
   "source": [
    "class Dog:\n",
    "\n",
    "    #私有方法\n",
    "    def __send_msg(self):\n",
    "        print(\"------正在发送短信------\")\n",
    "\n",
    "    #公有方法\n",
    "    def send_msg(self, new_money):\n",
    "        if new_money>10000:\n",
    "            self.__send_msg()\n",
    "        else:\n",
    "            print(\"余额不足,请先充值 再发送短信\")\n",
    "\n",
    "dog = Dog()\n",
    "dog.send_msg(100)"
   ]
  },
  {
   "cell_type": "markdown",
   "metadata": {},
   "source": [
    "### _ _del_ _方法"
   ]
  },
  {
   "cell_type": "code",
   "execution_count": null,
   "metadata": {},
   "outputs": [],
   "source": [
    "class Dog:\n",
    "    \n",
    "    def __del__(self):\n",
    "        print(\"-----英雄over------\")\n",
    "\n",
    "dog1 = Dog()\n",
    "dog2 = dog1\n",
    "\n",
    "del dog1#不会调用 __del__方法,因为这个对象 还有其他的变量指向它,即 引用计算不是0\n",
    "del dog2#此时会调用__del__方法,因为没有变量指向它了\n",
    "print(\"====================\")\n",
    "\n",
    "#如果在程序结束时,有些对象还存在,那么python解释器会自动调用它们的__del__方法来完成清理工作"
   ]
  },
  {
   "cell_type": "markdown",
   "metadata": {},
   "source": [
    "### 测试对象的引用个数"
   ]
  },
  {
   "cell_type": "code",
   "execution_count": 2,
   "metadata": {},
   "outputs": [
    {
     "data": {
      "text/plain": [
       "2"
      ]
     },
     "execution_count": 2,
     "metadata": {},
     "output_type": "execute_result"
    }
   ],
   "source": [
    "import sys\n",
    "class T:\n",
    "    pass\n",
    "t = T()\n",
    "sys.getrefcount(t)\n",
    "#用于测试对象的引用个数，实际要去掉一个，因为本身调用也算一个"
   ]
  },
  {
   "cell_type": "code",
   "execution_count": null,
   "metadata": {},
   "outputs": [],
   "source": []
  }
 ],
 "metadata": {
  "kernelspec": {
   "display_name": "Python 3",
   "language": "python",
   "name": "python3"
  },
  "language_info": {
   "codemirror_mode": {
    "name": "ipython",
    "version": 3
   },
   "file_extension": ".py",
   "mimetype": "text/x-python",
   "name": "python",
   "nbconvert_exporter": "python",
   "pygments_lexer": "ipython3",
   "version": "3.6.0"
  },
  "toc": {
   "nav_menu": {},
   "number_sections": true,
   "sideBar": true,
   "skip_h1_title": false,
   "title_cell": "Table of Contents",
   "title_sidebar": "Contents",
   "toc_cell": false,
   "toc_position": {},
   "toc_section_display": true,
   "toc_window_display": true
  }
 },
 "nbformat": 4,
 "nbformat_minor": 2
}
