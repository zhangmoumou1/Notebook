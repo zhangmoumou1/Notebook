{
 "cells": [
  {
   "cell_type": "markdown",
   "metadata": {},
   "source": [
    "### 面向对象和面向过程的区别"
   ]
  },
  {
   "cell_type": "code",
   "execution_count": null,
   "metadata": {},
   "outputs": [],
   "source": [
    "面向过程：根据业务逻辑从事到下写代码\n",
    "面向对象：将数据和函数绑定到一起，进行封装，这样能够更快速的开发程序，减少了重复代码的重写过程"
   ]
  },
  {
   "cell_type": "markdown",
   "metadata": {},
   "source": [
    "### 类和对象的关系"
   ]
  },
  {
   "cell_type": "code",
   "execution_count": null,
   "metadata": {},
   "outputs": [],
   "source": [
    "类是看不到摸不着就像一个模型，对象是看得见摸得着就像玩具。类只是一个概念，对象是一个具体的东西"
   ]
  },
  {
   "cell_type": "code",
   "execution_count": null,
   "metadata": {},
   "outputs": [],
   "source": [
    "类包括类名、属性、方法（def）"
   ]
  },
  {
   "cell_type": "markdown",
   "metadata": {},
   "source": [
    "### 调用对象的方法和给对象添加属性"
   ]
  },
  {
   "cell_type": "code",
   "execution_count": 5,
   "metadata": {},
   "outputs": [
    {
     "name": "stdout",
     "output_type": "stream",
     "text": [
      "猫在吃鱼\n",
      "猫在喝可乐\n"
     ]
    }
   ],
   "source": [
    "class Cat:\n",
    "    \n",
    "    #方法\n",
    "    def eat(self):\n",
    "        print(\"猫在吃鱼\")\n",
    "    def drink(self):\n",
    "        print(\"猫在喝可乐\")\n",
    "#创建一个对象\n",
    "tom = Cat()\n",
    "tom.eat()\n",
    "tom.drink()\n",
    "#给对象添加属性，也就是变量\n",
    "tom.name = \"汤姆\"\n",
    "tom.age = 40"
   ]
  },
  {
   "cell_type": "markdown",
   "metadata": {},
   "source": [
    "### self的用法"
   ]
  },
  {
   "cell_type": "code",
   "execution_count": 7,
   "metadata": {},
   "outputs": [
    {
     "name": "stdout",
     "output_type": "stream",
     "text": [
      "汤姆的年龄是:40\n",
      "蓝猫的年龄是:10\n"
     ]
    }
   ],
   "source": [
    "class Cat:\n",
    "    \n",
    "    #方法\n",
    "    def eat(self):\n",
    "        print(\"猫在吃鱼\")\n",
    "    def drink(self):\n",
    "        print(\"猫在喝可乐\")\n",
    "    def introduce(self):\n",
    "        print(\"%s的年龄是:%d\"%(self.name,self.age))    #通过哪个调用self就是指向谁\n",
    "\n",
    "tom = Cat()\n",
    "tom.name = \"汤姆\"\n",
    "tom.age = 40\n",
    "tom.introduce()\n",
    "\n",
    "lanmao = Cat()\n",
    "lanmao.name = \"蓝猫\"\n",
    "lanmao.age = 10\n",
    "lanmao.introduce()"
   ]
  },
  {
   "cell_type": "markdown",
   "metadata": {},
   "source": [
    "### _ _init_ _方法"
   ]
  },
  {
   "cell_type": "code",
   "execution_count": null,
   "metadata": {},
   "outputs": [],
   "source": [
    "class Cat:\n",
    "    \"\"\"定义了一个Cat类\"\"\"\n",
    "    \n",
    "    #初始化对象，调用类里的方法时会自动调用\n",
    "    def __init__(self):\n",
    "        print(\"---开始---\")\n",
    "    \n",
    "    #方法\n",
    "    def eat(self):\n",
    "        print(\"猫在吃鱼\")\n",
    "    def drink(self):\n",
    "        print(\"猫在喝可乐\")\n",
    "    def introduce(self):\n",
    "        print(\"%s的年龄是:%d\"%(self.name,self.age))    #通过哪个调用self就是指向谁\n",
    "\n",
    "tom = Cat()\n",
    "tom.name = \"汤姆\"\n",
    "tom.age = 40\n",
    "tom.introduce()\n",
    "\n",
    "lanmao = Cat()\n",
    "lanmao.name = \"蓝猫\"\n",
    "lanmao.age = 10\n",
    "lanmao.introduce()"
   ]
  },
  {
   "cell_type": "markdown",
   "metadata": {},
   "source": [
    "### 调用_ _init_ _方法的流程"
   ]
  },
  {
   "cell_type": "code",
   "execution_count": 8,
   "metadata": {},
   "outputs": [
    {
     "name": "stdout",
     "output_type": "stream",
     "text": [
      "汤姆的年龄是:40\n",
      "蓝猫的年龄是:10\n"
     ]
    }
   ],
   "source": [
    "class Cat:\n",
    "    \"\"\"定义了一个Cat类\"\"\"\n",
    "    \n",
    "    #初始化对象，调用类里的方法时会自动调用\n",
    "    def __init__(self,new_name,new_age):\n",
    "        self.name = new_name  #所调对象的变量\n",
    "        self.age = new_age\n",
    "    \n",
    "    #方法\n",
    "    def eat(self):\n",
    "        print(\"猫在吃鱼\")\n",
    "    def drink(self):\n",
    "        print(\"猫在喝可乐\")\n",
    "    def introduce(self):\n",
    "        print(\"%s的年龄是:%d\"%(self.name,self.age))    #通过哪个调用self就是指向谁\n",
    "\n",
    "tom = Cat(\"汤姆\",40)\n",
    "tom.introduce()\n",
    "\n",
    "lanmao = Cat(\"蓝猫\",10)\n",
    "lanmao.introduce()"
   ]
  },
  {
   "cell_type": "markdown",
   "metadata": {},
   "source": [
    "### 调用_ _str_ _方法"
   ]
  },
  {
   "cell_type": "code",
   "execution_count": 11,
   "metadata": {},
   "outputs": [
    {
     "name": "stdout",
     "output_type": "stream",
     "text": [
      "汤姆的年龄是:40\n",
      "蓝猫的年龄是:10\n"
     ]
    }
   ],
   "source": [
    "class Cat:\n",
    "    \"\"\"定义了一个Cat类\"\"\"\n",
    "    \n",
    "    #初始化对象，调用类里的方法时会自动调用\n",
    "    def __init__(self,new_name,new_age):\n",
    "        self.name = new_name  #所调对象的变量\n",
    "        self.age = new_age\n",
    "    #当创建一个对象调用时，默认返回值\n",
    "    def __str__(self):\n",
    "        return \"%s的年龄是:%d\"%(self.name,self.age)  #此处的name、age是调用对象的变量\n",
    "    \n",
    "    #方法\n",
    "    def eat(self):\n",
    "        print(\"猫在吃鱼\")\n",
    "    def drink(self):\n",
    "        print(\"猫在喝可乐\")\n",
    "    def introduce(self):\n",
    "        print(\"%s的年龄是:%d\"%(self.name,self.age))    #通过哪个调用self就是指向谁\n",
    "\n",
    "tom = Cat(\"汤姆\",40)\n",
    "lanmao = Cat(\"蓝猫\",10)\n",
    "print(tom)\n",
    "print(lanmao)"
   ]
  },
  {
   "cell_type": "code",
   "execution_count": null,
   "metadata": {},
   "outputs": [],
   "source": []
  }
 ],
 "metadata": {
  "kernelspec": {
   "display_name": "Python 3",
   "language": "python",
   "name": "python3"
  },
  "language_info": {
   "codemirror_mode": {
    "name": "ipython",
    "version": 3
   },
   "file_extension": ".py",
   "mimetype": "text/x-python",
   "name": "python",
   "nbconvert_exporter": "python",
   "pygments_lexer": "ipython3",
   "version": "3.5.2"
  },
  "toc": {
   "nav_menu": {},
   "number_sections": true,
   "sideBar": true,
   "skip_h1_title": false,
   "toc_cell": false,
   "toc_position": {},
   "toc_section_display": true,
   "toc_window_display": true
  }
 },
 "nbformat": 4,
 "nbformat_minor": 2
}
